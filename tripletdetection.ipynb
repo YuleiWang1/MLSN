{
 "cells": [
  {
   "cell_type": "code",
   "execution_count": null,
   "metadata": {
    "pycharm": {
     "is_executing": false
    }
   },
   "outputs": [],
   "source": [
    "# 装入指定的模块\n",
    "%load_ext autoreload\n",
    "%autoreload 2"
   ]
  },
  {
   "cell_type": "code",
   "execution_count": null,
   "metadata": {
    "pycharm": {
     "is_executing": false
    }
   },
   "outputs": [],
   "source": [
    "import numpy as np \n",
    "import torch\n",
    "import pandas as pd\n",
    "from scipy import io \n",
    "from torchvision import transforms\n",
    "# Set up data loaders\n",
    "from datasets import TripletMNIST, load_salinas_mat\n",
    "\n",
    "from trainer import fit\n",
    "cuda = torch.cuda.is_available()\n",
    "ignored_labels = [0]\n",
    "patch_size = 1\n",
    "data_path = './data/Salinas/Salinas.mat'\n",
    "gt_path = './data/Salinas/Salinas_gt.mat'\n",
    "train_data, train_gt = load_salinas_mat(data_path, gt_path, remove_bands=True) # img:(H, W, d), gt:(H, W)\n",
    "#train_data = io.loadmat(data_path)['salinas']\n",
    "train_gt0 = io.loadmat(gt_path)['salinas_gt']\n",
    "train_gt0 = train_gt0.astype(np.float32)\n",
    "train_gt0 = train_gt0.flatten()\n",
    "# train_gt0 = list(train_gt0)\n",
    "# train_gt0 = train_gt0.tolist()\n",
    "# Delete ndarray 0 elements\n",
    "train_gt0 = pd.DataFrame(train_gt0).replace(0,np.NAN)\n",
    "train_gt0.dropna(inplace = True)\n",
    "train_gt0 = np.array(train_gt0).astype(np.float32).reshape(1,-1)[0]\n",
    "\n",
    "train_gt = train_gt.astype(np.float32)\n",
    "train_gt = train_gt.flatten()\n",
    "n_classes = len(np.unique(train_gt))-1\n",
    "\n",
    "train_data = np.float32(train_data)\n",
    "max1 = np.amax(train_data)\n",
    "min1 = np.amin(train_data)\n",
    "train_data = (train_data-min1)/max1\n",
    "\n",
    "d = train_data.shape[2]\n",
    "train_data = train_data.reshape(-1, d)\n",
    "\n",
    "\n",
    "\n",
    "\n",
    "triplet_train_dataset = TripletMNIST(train_data, train_gt, train_gt0) # Returns triplets of images\n",
    "\n",
    "#triplet_test_dataset = TripletMNIST(test_dataset)\n",
    "batch_size = 128\n",
    "kwargs = {'num_workers': 1, 'pin_memory': True} if cuda else {}\n",
    "triplet_train_loader = torch.utils.data.DataLoader(triplet_train_dataset, batch_size=batch_size, shuffle=True, **kwargs)\n",
    "triplet_test_loader = torch.utils.data.DataLoader(triplet_train_dataset, batch_size=batch_size, shuffle=False, **kwargs)\n",
    "\n",
    "# Set up the network and training parameters\n",
    "from networks import FECNN, TripletNet\n",
    "from losses import TripletLoss\n",
    "from torch.optim import lr_scheduler\n",
    "import torch.optim as optim\n",
    "from torch.autograd import Variable\n",
    "\n",
    "margin = 1.\n",
    "embedding_net = FECNN()\n",
    "model = TripletNet(embedding_net)\n",
    "if cuda:\n",
    "    model.cuda()\n",
    "loss_fn = TripletLoss(margin)\n",
    "lr = 1e-3\n",
    "optimizer = optim.Adam(model.parameters(), lr=lr)\n",
    "scheduler = lr_scheduler.StepLR(optimizer, 50, gamma=0.1, last_epoch=-1)\n",
    "n_epochs = 50   #好的效果是50  Urabn=100\n",
    "log_interval = 1\n"
   ]
  },
  {
   "cell_type": "code",
   "execution_count": null,
   "metadata": {
    "pycharm": {
     "is_executing": false
    },
    "tags": []
   },
   "outputs": [],
   "source": [
    "fit(triplet_train_loader,triplet_test_loader, model, loss_fn, optimizer, scheduler, n_epochs, cuda, log_interval)"
   ]
  }
 ],
 "metadata": {
  "interpreter": {
   "hash": "10802dce9f069b82412850661e2e4b80e23db13a4e6b9a453ed137bea924daf7"
  },
  "kernelspec": {
   "display_name": "Python 3.8.3 64-bit ('base': conda)",
   "name": "python3"
  },
  "language_info": {
   "codemirror_mode": {
    "name": "ipython",
    "version": 3
   },
   "file_extension": ".py",
   "mimetype": "text/x-python",
   "name": "python",
   "nbconvert_exporter": "python",
   "pygments_lexer": "ipython3",
   "version": "3.8.3"
  },
  "orig_nbformat": 2,
  "pycharm": {
   "stem_cell": {
    "cell_type": "raw",
    "metadata": {
     "collapsed": false
    },
    "source": []
   }
  }
 },
 "nbformat": 4,
 "nbformat_minor": 2
}
